{
 "cells": [
  {
   "cell_type": "markdown",
   "metadata": {},
   "source": [
    "# MinHash\n",
    "\n",
    "Let us see what this MinHash thing is all about!\n",
    "\n",
    "I am implementing MinHash in the most direct way possible here, and using mostly my understanding of it from Peter Christen's explanation and discussions with Al.\n",
    "\n",
    "I have been intending to use Jupyter Notebooks for a while too. LSH seems to have a nice and short implementation, so it makes a good candidate for exploring Jupyter Notebooks!\n",
    "\n",
    "## The hash function\n",
    "\n",
    "First we need to select a hashing algorithm. The `hashlib` library implements a number of popular hashing algorithms."
   ]
  },
  {
   "cell_type": "code",
   "execution_count": 1,
   "metadata": {},
   "outputs": [
    {
     "data": {
      "text/plain": [
       "{'blake2b',\n",
       " 'blake2s',\n",
       " 'md5',\n",
       " 'sha1',\n",
       " 'sha224',\n",
       " 'sha256',\n",
       " 'sha384',\n",
       " 'sha3_224',\n",
       " 'sha3_256',\n",
       " 'sha3_384',\n",
       " 'sha3_512',\n",
       " 'sha512',\n",
       " 'shake_128',\n",
       " 'shake_256'}"
      ]
     },
     "execution_count": 1,
     "metadata": {},
     "output_type": "execute_result"
    }
   ],
   "source": [
    "import hashlib\n",
    "hashlib.algorithms_guaranteed"
   ]
  },
  {
   "cell_type": "markdown",
   "metadata": {},
   "source": [
    "Let's use MD5 for now."
   ]
  },
  {
   "cell_type": "code",
   "execution_count": 2,
   "metadata": {},
   "outputs": [],
   "source": [
    "def smallHash(number, text):\n",
    "    \"\"\"\n",
    "    Hash some given `text`.\n",
    "    This function defines a \"family\" of hash functions,\n",
    "    each variation is identified by the value of the `number`.\n",
    "    Output value: a non-negative integer, less than a million. (For now!)\n",
    "    \"\"\"\n",
    "    m = hashlib.md5()\n",
    "    m.update(bytes(number))\n",
    "    m.update(text.encode('utf-8'))\n",
    "    return int(m.hexdigest(), 16) % 1000000"
   ]
  },
  {
   "cell_type": "code",
   "execution_count": 3,
   "metadata": {},
   "outputs": [
    {
     "data": {
      "text/plain": [
       "496"
      ]
     },
     "execution_count": 3,
     "metadata": {},
     "output_type": "execute_result"
    }
   ],
   "source": [
    "smallHash(1, \"ozgur\")"
   ]
  },
  {
   "cell_type": "code",
   "execution_count": 4,
   "metadata": {},
   "outputs": [
    {
     "data": {
      "text/plain": [
       "388615"
      ]
     },
     "execution_count": 4,
     "metadata": {},
     "output_type": "execute_result"
    }
   ],
   "source": [
    "smallHash(2, \"ozgur\")"
   ]
  },
  {
   "cell_type": "markdown",
   "metadata": {},
   "source": [
    "## Shingles\n",
    "\n",
    "We need to be able to produce a list of shingles for a given document. These shingles will later be hashed in various different ways, minimum will be found, and signatures will be formed. Stay tuned!\n",
    "\n",
    "Let's define a function to produce a list of shingles."
   ]
  },
  {
   "cell_type": "code",
   "execution_count": 5,
   "metadata": {},
   "outputs": [],
   "source": [
    "def computeShingles(q, document):\n",
    "    \"\"\"\n",
    "    Produce a list of shingles for a given `document`.\n",
    "    Shingle width will be `q`.\n",
    "    \"\"\"\n",
    "    shingles = []\n",
    "    for i in range(len(document) - q + 1):\n",
    "        shingle = \"\"\n",
    "        for j in range(i,i+q):\n",
    "            shingle += document[j]\n",
    "        shingles.append(shingle)\n",
    "    return shingles\n"
   ]
  },
  {
   "cell_type": "code",
   "execution_count": 6,
   "metadata": {},
   "outputs": [
    {
     "data": {
      "text/plain": [
       "['eve',\n",
       " 'ver',\n",
       " 'ery',\n",
       " 'ryt',\n",
       " 'yth',\n",
       " 'thi',\n",
       " 'hin',\n",
       " 'ing',\n",
       " 'ng ',\n",
       " 'g i',\n",
       " ' is',\n",
       " 'is ',\n",
       " 's a',\n",
       " ' aw',\n",
       " 'awe',\n",
       " 'wes',\n",
       " 'eso',\n",
       " 'som',\n",
       " 'ome']"
      ]
     },
     "execution_count": 6,
     "metadata": {},
     "output_type": "execute_result"
    }
   ],
   "source": [
    "computeShingles(3, \"everything is awesome\")"
   ]
  },
  {
   "cell_type": "markdown",
   "metadata": {},
   "source": [
    "## Computing minHash values\n",
    "\n",
    "Now it is easy to compute a vector of minHash values for a given document.\n",
    "\n",
    "This vector, at position $i$ contains the minimum hash value of all shingles."
   ]
  },
  {
   "cell_type": "code",
   "execution_count": 7,
   "metadata": {},
   "outputs": [],
   "source": [
    "def computeHashes(q, hashIDs, document):\n",
    "    hashes = []\n",
    "    shingles = computeShingles(q, document)\n",
    "    for hashID in hashIDs:\n",
    "        minHash = min([ smallHash(hashID, shingle)\n",
    "                        for shingle in shingles ])\n",
    "        hashes.append(minHash)\n",
    "    return hashes\n"
   ]
  },
  {
   "cell_type": "code",
   "execution_count": 8,
   "metadata": {},
   "outputs": [
    {
     "data": {
      "text/plain": [
       "[496, 4993, 70528, 39444, 85131, 14234]"
      ]
     },
     "execution_count": 8,
     "metadata": {},
     "output_type": "execute_result"
    }
   ],
   "source": [
    "computeHashes(3, [1,2,3,4,5,6], \"everything is awesome\")"
   ]
  },
  {
   "cell_type": "markdown",
   "metadata": {},
   "source": [
    "# Computing the signature\n",
    "\n",
    "Now that we are able to compute a vector of minHash values, the minHash signature is merely a specific interpretation of this vector. For a given number of bands $b$, and a given band size $s$, we compute a vector of $b*s$ minHash values.\n",
    "\n",
    "Later we will see how documents that have the same minHash signature for one of these bands will be put into the same block."
   ]
  },
  {
   "cell_type": "code",
   "execution_count": 9,
   "metadata": {},
   "outputs": [],
   "source": [
    "def computeSignature(q, nbBands, bandSize, document):\n",
    "    # calculate the vector of hashes\n",
    "    hashes = computeHashes(q, range(nbBands * bandSize), document)\n",
    "\n",
    "    # chop them up\n",
    "    bands = [ hashes[x : x+bandSize]\n",
    "              for x in range(0, len(hashes), bandSize)]\n",
    "\n",
    "    # return these chopped up hashes, tagged with the band number\n",
    "    return list(enumerate(bands))\n"
   ]
  },
  {
   "cell_type": "code",
   "execution_count": 10,
   "metadata": {},
   "outputs": [
    {
     "data": {
      "text/plain": [
       "[(0, [22809, 496]), (1, [4993, 70528]), (2, [39444, 85131])]"
      ]
     },
     "execution_count": 10,
     "metadata": {},
     "output_type": "execute_result"
    }
   ],
   "source": [
    "computeSignature(3, 3, 2, \"everything is awesome\")"
   ]
  },
  {
   "cell_type": "markdown",
   "metadata": {},
   "source": [
    "# A document store\n",
    "\n",
    "Let's set up a document store. In this store documents are stored by their minHash signatures. We implement this by using a Python dictionary indexed by the bands of the minHash signature. A reference is inserted into all appropriate index positions of the dictionary.\n",
    "\n",
    "Similar documents to a given document can be retrieved by creating a minHash signature for the query document, and looking up all relevant index positions.\n",
    "\n",
    "The following is an implementation of two methods to interact with such a store."
   ]
  },
  {
   "cell_type": "code",
   "execution_count": 11,
   "metadata": {},
   "outputs": [],
   "source": [
    "def addToStore(q, nbBands, bandSize, documentStore, document):\n",
    "    signature = computeSignature(q, nbBands, bandSize, document)\n",
    "    if signature:\n",
    "        for (bandID, band) in signature:\n",
    "            sig = smallHash(bandID, str(band))\n",
    "            if not sig in documentStore.keys():\n",
    "                documentStore[sig] = set()\n",
    "            documentStore[sig].add(document)\n",
    "\n",
    "def lookup(q, nbBands, bandSize, documentStore, document):\n",
    "    signature = computeSignature(q, nbBands, bandSize, document)\n",
    "    results = set()\n",
    "    for (bandID, band) in signature:\n",
    "        sig = smallHash(bandID, str(band))\n",
    "        if sig in documentStore:\n",
    "            for doc in documentStore[sig]:\n",
    "                results.add(doc)\n",
    "    return results\n"
   ]
  },
  {
   "cell_type": "markdown",
   "metadata": {},
   "source": [
    "# Silly example\n",
    "\n",
    "Here is a silly example."
   ]
  },
  {
   "cell_type": "code",
   "execution_count": 12,
   "metadata": {},
   "outputs": [
    {
     "name": "stdout",
     "output_type": "stream",
     "text": [
      "Looking up ozgur akgn, retrieved 2 result(s).\n",
      " - ozgun akgun\n",
      " - ozgur akgun\n",
      "Looking up ozgur, retrieved 0 result(s).\n",
      "Looking up al dearle, retrieved 0 result(s).\n"
     ]
    }
   ],
   "source": [
    "sillyStore = {}\n",
    "q = 2\n",
    "nbBands = 4\n",
    "bandSize = 3\n",
    "\n",
    "def add(doc):\n",
    "    addToStore(q, nbBands, bandSize, sillyStore, doc)\n",
    "\n",
    "def lu(doc):\n",
    "    results = lookup(q, nbBands, bandSize, sillyStore, doc)\n",
    "    print(\"Looking up %s, retrieved %d result(s).\" % (doc, len(results)))\n",
    "    for res in results:\n",
    "        print(\" - %s\" % res)\n",
    "\n",
    "add(\"tom dalton\")\n",
    "add(\"alan dearle\")\n",
    "add(\"graham kirby\")\n",
    "add(\"ozgur akgun\")\n",
    "add(\"ozgun akgun\")\n",
    "\n",
    "lu(\"ozgur akgn\")\n",
    "lu(\"ozgur\")\n",
    "lu(\"al dearle\")\n"
   ]
  },
  {
   "cell_type": "markdown",
   "metadata": {},
   "source": [
    "# Silly example, modified\n",
    "\n",
    "The above seems to strict. Let's play with the parameters a bit.\n"
   ]
  },
  {
   "cell_type": "code",
   "execution_count": 13,
   "metadata": {},
   "outputs": [
    {
     "name": "stdout",
     "output_type": "stream",
     "text": [
      "Looking up ozgur akgn, retrieved 2 result(s).\n",
      " - ozgun akgun\n",
      " - ozgur akgun\n",
      "Looking up ozgur, retrieved 1 result(s).\n",
      " - ozgur akgun\n",
      "Looking up al dearle, retrieved 1 result(s).\n",
      " - alan dearle\n"
     ]
    }
   ],
   "source": [
    "sillyStore = {}\n",
    "q = 2\n",
    "nbBands = 40\n",
    "bandSize = 3\n",
    "\n",
    "def add(doc):\n",
    "    addToStore(q, nbBands, bandSize, sillyStore, doc)\n",
    "\n",
    "def lu(doc):\n",
    "    results = lookup(q, nbBands, bandSize, sillyStore, doc)\n",
    "    print(\"Looking up %s, retrieved %d result(s).\" % (doc, len(results)))\n",
    "    for res in results:\n",
    "        print(\" - %s\" % res)\n",
    "\n",
    "add(\"tom dalton\")\n",
    "add(\"alan dearle\")\n",
    "add(\"graham kirby\")\n",
    "add(\"ozgur akgun\")\n",
    "add(\"ozgun akgun\")\n",
    "\n",
    "lu(\"ozgur akgn\")\n",
    "lu(\"ozgur\")\n",
    "lu(\"al dearle\")\n"
   ]
  },
  {
   "cell_type": "markdown",
   "metadata": {},
   "source": [
    "# A note\n",
    "\n",
    "Locally I played with this a bit more. I downloaded some large text files (works of Shakespeare found from a random source, etc). I can show how things work if anyone is interested!"
   ]
  }
 ],
 "metadata": {
  "kernelspec": {
   "display_name": "Python 3",
   "language": "python",
   "name": "python3"
  },
  "language_info": {
   "codemirror_mode": {
    "name": "ipython",
    "version": 3
   },
   "file_extension": ".py",
   "mimetype": "text/x-python",
   "name": "python",
   "nbconvert_exporter": "python",
   "pygments_lexer": "ipython3",
   "version": "3.6.2"
  }
 },
 "nbformat": 4,
 "nbformat_minor": 2
}
